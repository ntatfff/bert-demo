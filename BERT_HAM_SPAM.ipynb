{
  "cells": [
    {
      "cell_type": "markdown",
      "metadata": {
        "id": "view-in-github",
        "colab_type": "text"
      },
      "source": [
        "<a href=\"https://colab.research.google.com/github/ntatfff/bert-demo/blob/main/BERT_HAM_SPAM.ipynb\" target=\"_parent\"><img src=\"https://colab.research.google.com/assets/colab-badge.svg\" alt=\"Open In Colab\"/></a>"
      ]
    },
    {
      "cell_type": "code",
      "source": [
        "!pip install tensorflow tensorflow_text tensorflow_hub pandas"
      ],
      "metadata": {
        "id": "kXWnMqHmjn11",
        "colab": {
          "base_uri": "https://localhost:8080/"
        },
        "outputId": "ea1d2622-b62f-4241-ea7e-0662ca7b9e31"
      },
      "execution_count": 3,
      "outputs": [
        {
          "output_type": "stream",
          "name": "stdout",
          "text": [
            "Requirement already satisfied: tensorflow in /usr/local/lib/python3.10/dist-packages (2.15.0.post1)\n",
            "Requirement already satisfied: tensorflow_text in /usr/local/lib/python3.10/dist-packages (2.15.0)\n",
            "Requirement already satisfied: tensorflow_hub in /usr/local/lib/python3.10/dist-packages (0.15.0)\n",
            "Requirement already satisfied: pandas in /usr/local/lib/python3.10/dist-packages (1.5.3)\n",
            "Requirement already satisfied: absl-py>=1.0.0 in /usr/local/lib/python3.10/dist-packages (from tensorflow) (1.4.0)\n",
            "Requirement already satisfied: astunparse>=1.6.0 in /usr/local/lib/python3.10/dist-packages (from tensorflow) (1.6.3)\n",
            "Requirement already satisfied: flatbuffers>=23.5.26 in /usr/local/lib/python3.10/dist-packages (from tensorflow) (23.5.26)\n",
            "Requirement already satisfied: gast!=0.5.0,!=0.5.1,!=0.5.2,>=0.2.1 in /usr/local/lib/python3.10/dist-packages (from tensorflow) (0.5.4)\n",
            "Requirement already satisfied: google-pasta>=0.1.1 in /usr/local/lib/python3.10/dist-packages (from tensorflow) (0.2.0)\n",
            "Requirement already satisfied: h5py>=2.9.0 in /usr/local/lib/python3.10/dist-packages (from tensorflow) (3.9.0)\n",
            "Requirement already satisfied: libclang>=13.0.0 in /usr/local/lib/python3.10/dist-packages (from tensorflow) (16.0.6)\n",
            "Requirement already satisfied: ml-dtypes~=0.2.0 in /usr/local/lib/python3.10/dist-packages (from tensorflow) (0.2.0)\n",
            "Requirement already satisfied: numpy<2.0.0,>=1.23.5 in /usr/local/lib/python3.10/dist-packages (from tensorflow) (1.23.5)\n",
            "Requirement already satisfied: opt-einsum>=2.3.2 in /usr/local/lib/python3.10/dist-packages (from tensorflow) (3.3.0)\n",
            "Requirement already satisfied: packaging in /usr/local/lib/python3.10/dist-packages (from tensorflow) (23.2)\n",
            "Requirement already satisfied: protobuf!=4.21.0,!=4.21.1,!=4.21.2,!=4.21.3,!=4.21.4,!=4.21.5,<5.0.0dev,>=3.20.3 in /usr/local/lib/python3.10/dist-packages (from tensorflow) (3.20.3)\n",
            "Requirement already satisfied: setuptools in /usr/local/lib/python3.10/dist-packages (from tensorflow) (67.7.2)\n",
            "Requirement already satisfied: six>=1.12.0 in /usr/local/lib/python3.10/dist-packages (from tensorflow) (1.16.0)\n",
            "Requirement already satisfied: termcolor>=1.1.0 in /usr/local/lib/python3.10/dist-packages (from tensorflow) (2.3.0)\n",
            "Requirement already satisfied: typing-extensions>=3.6.6 in /usr/local/lib/python3.10/dist-packages (from tensorflow) (4.5.0)\n",
            "Requirement already satisfied: wrapt<1.15,>=1.11.0 in /usr/local/lib/python3.10/dist-packages (from tensorflow) (1.14.1)\n",
            "Requirement already satisfied: tensorflow-io-gcs-filesystem>=0.23.1 in /usr/local/lib/python3.10/dist-packages (from tensorflow) (0.34.0)\n",
            "Requirement already satisfied: grpcio<2.0,>=1.24.3 in /usr/local/lib/python3.10/dist-packages (from tensorflow) (1.59.3)\n",
            "Requirement already satisfied: tensorboard<2.16,>=2.15 in /usr/local/lib/python3.10/dist-packages (from tensorflow) (2.15.1)\n",
            "Requirement already satisfied: tensorflow-estimator<2.16,>=2.15.0 in /usr/local/lib/python3.10/dist-packages (from tensorflow) (2.15.0)\n",
            "Requirement already satisfied: keras<2.16,>=2.15.0 in /usr/local/lib/python3.10/dist-packages (from tensorflow) (2.15.0)\n",
            "Requirement already satisfied: python-dateutil>=2.8.1 in /usr/local/lib/python3.10/dist-packages (from pandas) (2.8.2)\n",
            "Requirement already satisfied: pytz>=2020.1 in /usr/local/lib/python3.10/dist-packages (from pandas) (2023.3.post1)\n",
            "Requirement already satisfied: wheel<1.0,>=0.23.0 in /usr/local/lib/python3.10/dist-packages (from astunparse>=1.6.0->tensorflow) (0.42.0)\n",
            "Requirement already satisfied: google-auth<3,>=1.6.3 in /usr/local/lib/python3.10/dist-packages (from tensorboard<2.16,>=2.15->tensorflow) (2.17.3)\n",
            "Requirement already satisfied: google-auth-oauthlib<2,>=0.5 in /usr/local/lib/python3.10/dist-packages (from tensorboard<2.16,>=2.15->tensorflow) (1.0.0)\n",
            "Requirement already satisfied: markdown>=2.6.8 in /usr/local/lib/python3.10/dist-packages (from tensorboard<2.16,>=2.15->tensorflow) (3.5.1)\n",
            "Requirement already satisfied: requests<3,>=2.21.0 in /usr/local/lib/python3.10/dist-packages (from tensorboard<2.16,>=2.15->tensorflow) (2.31.0)\n",
            "Requirement already satisfied: tensorboard-data-server<0.8.0,>=0.7.0 in /usr/local/lib/python3.10/dist-packages (from tensorboard<2.16,>=2.15->tensorflow) (0.7.2)\n",
            "Requirement already satisfied: werkzeug>=1.0.1 in /usr/local/lib/python3.10/dist-packages (from tensorboard<2.16,>=2.15->tensorflow) (3.0.1)\n",
            "Requirement already satisfied: cachetools<6.0,>=2.0.0 in /usr/local/lib/python3.10/dist-packages (from google-auth<3,>=1.6.3->tensorboard<2.16,>=2.15->tensorflow) (5.3.2)\n",
            "Requirement already satisfied: pyasn1-modules>=0.2.1 in /usr/local/lib/python3.10/dist-packages (from google-auth<3,>=1.6.3->tensorboard<2.16,>=2.15->tensorflow) (0.3.0)\n",
            "Requirement already satisfied: rsa<5,>=3.1.4 in /usr/local/lib/python3.10/dist-packages (from google-auth<3,>=1.6.3->tensorboard<2.16,>=2.15->tensorflow) (4.9)\n",
            "Requirement already satisfied: requests-oauthlib>=0.7.0 in /usr/local/lib/python3.10/dist-packages (from google-auth-oauthlib<2,>=0.5->tensorboard<2.16,>=2.15->tensorflow) (1.3.1)\n",
            "Requirement already satisfied: charset-normalizer<4,>=2 in /usr/local/lib/python3.10/dist-packages (from requests<3,>=2.21.0->tensorboard<2.16,>=2.15->tensorflow) (3.3.2)\n",
            "Requirement already satisfied: idna<4,>=2.5 in /usr/local/lib/python3.10/dist-packages (from requests<3,>=2.21.0->tensorboard<2.16,>=2.15->tensorflow) (3.6)\n",
            "Requirement already satisfied: urllib3<3,>=1.21.1 in /usr/local/lib/python3.10/dist-packages (from requests<3,>=2.21.0->tensorboard<2.16,>=2.15->tensorflow) (2.0.7)\n",
            "Requirement already satisfied: certifi>=2017.4.17 in /usr/local/lib/python3.10/dist-packages (from requests<3,>=2.21.0->tensorboard<2.16,>=2.15->tensorflow) (2023.11.17)\n",
            "Requirement already satisfied: MarkupSafe>=2.1.1 in /usr/local/lib/python3.10/dist-packages (from werkzeug>=1.0.1->tensorboard<2.16,>=2.15->tensorflow) (2.1.3)\n",
            "Requirement already satisfied: pyasn1<0.6.0,>=0.4.6 in /usr/local/lib/python3.10/dist-packages (from pyasn1-modules>=0.2.1->google-auth<3,>=1.6.3->tensorboard<2.16,>=2.15->tensorflow) (0.5.1)\n",
            "Requirement already satisfied: oauthlib>=3.0.0 in /usr/local/lib/python3.10/dist-packages (from requests-oauthlib>=0.7.0->google-auth-oauthlib<2,>=0.5->tensorboard<2.16,>=2.15->tensorflow) (3.2.2)\n"
          ]
        }
      ]
    },
    {
      "cell_type": "code",
      "execution_count": 4,
      "metadata": {
        "id": "6HKjLbYWZLJx"
      },
      "outputs": [],
      "source": [
        "import tensorflow as tf\n",
        "import tensorflow_text as text\n",
        "import tensorflow_hub as hub\n",
        "from tensorflow.keras import layers\n",
        "from sklearn.model_selection import train_test_split\n",
        "import pandas as pd"
      ]
    },
    {
      "cell_type": "code",
      "execution_count": 5,
      "metadata": {
        "id": "FE1Yl7-XJ8_c"
      },
      "outputs": [],
      "source": [
        "data= 'https://raw.githubusercontent.com/ntatfff/bert-demo/main/spam_ham_dataset.csv'\n",
        "df_all = pd.read_csv(data)"
      ]
    },
    {
      "cell_type": "code",
      "source": [
        "# get trainning dataset with 50 spam and 50 ham\n",
        "df_50_spam = df_all[df_all['label'] == 'spam'][:50]\n",
        "df_50_ham = df_all[df_all['label'] == 'ham'][:50]\n",
        "frames = [df_50_spam, df_50_ham]\n",
        "df_train = pd.concat(frames)"
      ],
      "metadata": {
        "id": "p5VLD48TfvI2"
      },
      "execution_count": 6,
      "outputs": []
    },
    {
      "cell_type": "code",
      "source": [
        "dataset = df_train['text']\n",
        "labels = df_train['label_num']"
      ],
      "metadata": {
        "id": "JUd3uM5x4dmf"
      },
      "execution_count": 11,
      "outputs": []
    },
    {
      "cell_type": "code",
      "source": [],
      "metadata": {
        "colab": {
          "base_uri": "https://localhost:8080/"
        },
        "id": "Aguqb07Y4sie",
        "outputId": "617bccd9-6b4a-4984-ec4a-c8e28f106675"
      },
      "execution_count": null,
      "outputs": [
        {
          "output_type": "execute_result",
          "data": {
            "text/plain": [
              "0    0\n",
              "1    0\n",
              "2    0\n",
              "3    1\n",
              "4    0\n",
              "Name: label_num, dtype: int64"
            ]
          },
          "metadata": {},
          "execution_count": 6
        }
      ]
    },
    {
      "cell_type": "code",
      "execution_count": 12,
      "metadata": {
        "id": "Oc1jWhm9ffDO"
      },
      "outputs": [],
      "source": [
        "# Use train_test_split to split our data into train and validation sets\n",
        "train_inputs, validation_inputs, train_labels, validation_labels = train_test_split(dataset, labels, random_state=42, test_size=0.1)"
      ]
    },
    {
      "cell_type": "code",
      "source": [
        "# Load the BERT model and tokenizer\n",
        "bert_preprocess = 'https://tfhub.dev/tensorflow/bert_en_uncased_preprocess/3'\n",
        "bert_encoder = 'https://tfhub.dev/tensorflow/bert_en_uncased_L-12_H-768_A-12/4'\n",
        "preprocessor = hub.KerasLayer(bert_preprocess)\n",
        "encoder = hub.KerasLayer(bert_encoder)"
      ],
      "metadata": {
        "id": "b0rAMaNSJRAQ"
      },
      "execution_count": 13,
      "outputs": []
    },
    {
      "cell_type": "code",
      "execution_count": 15,
      "metadata": {
        "id": "BevNxpz7fl6k"
      },
      "outputs": [],
      "source": [
        "# Prepare the model\n",
        "def build_classifier_model():\n",
        "  text_input = tf.keras.layers.Input(shape=(), dtype=tf.string, name='text')\n",
        "  preprocessing_layer = hub.KerasLayer(bert_preprocess, name='preprocessing')\n",
        "  encoder_inputs = preprocessing_layer(text_input)\n",
        "  encoder = hub.KerasLayer(bert_encoder, trainable=True, name='BERT_encoder')\n",
        "  outputs = encoder(encoder_inputs)\n",
        "  net = outputs['pooled_output']\n",
        "  net = tf.keras.layers.Dropout(0.1)(net)\n",
        "  net = tf.keras.layers.Dense(1, activation=None, name='classifier')(net)\n",
        "  return tf.keras.Model(text_input, net)\n",
        "\n",
        "classifier_model = build_classifier_model()"
      ]
    },
    {
      "cell_type": "code",
      "source": [
        "# Compile the model\n",
        "classifier_model.compile(\n",
        "    optimizer='adam',\n",
        "    loss=tf.keras.losses.BinaryCrossentropy(from_logits=True),\n",
        "    metrics=['accuracy']\n",
        ")"
      ],
      "metadata": {
        "id": "RW1QfuXN6xkr"
      },
      "execution_count": 16,
      "outputs": []
    },
    {
      "cell_type": "code",
      "source": [
        "# Train the model\n",
        "history = classifier_model.fit(\n",
        "    train_inputs,\n",
        "    train_labels,\n",
        "    epochs=10,\n",
        "    validation_data=(validation_inputs, validation_labels)\n",
        ")"
      ],
      "metadata": {
        "colab": {
          "base_uri": "https://localhost:8080/"
        },
        "id": "YwqCEHq__0p6",
        "outputId": "04447f8b-1dfc-471f-ee2c-6efedd5aa0df"
      },
      "execution_count": null,
      "outputs": [
        {
          "output_type": "stream",
          "name": "stdout",
          "text": [
            "Epoch 1/10\n",
            "3/3 [==============================] - 153s 44s/step - loss: 1.1207 - accuracy: 0.4333 - val_loss: 0.6759 - val_accuracy: 0.6000\n",
            "Epoch 2/10\n",
            "3/3 [==============================] - 122s 40s/step - loss: 0.7685 - accuracy: 0.5222 - val_loss: 0.7627 - val_accuracy: 0.4000\n",
            "Epoch 3/10\n"
          ]
        }
      ]
    },
    {
      "cell_type": "code",
      "source": [
        "df_test = df_all.iloc[101:120]\n",
        "texts_test = df_test['text']\n",
        "labels_test = df_test['label_num']\n"
      ],
      "metadata": {
        "id": "0z7PrFpvL_JK"
      },
      "execution_count": null,
      "outputs": []
    },
    {
      "cell_type": "code",
      "source": [
        "# Evaluate the model\n",
        "loss, accuracy = classifier_model.evaluate(texts_test, labels_test)"
      ],
      "metadata": {
        "colab": {
          "base_uri": "https://localhost:8080/"
        },
        "id": "ZaK33pqDLmex",
        "outputId": "acba7c73-bcb5-4e38-d161-c3205cde9eb3"
      },
      "execution_count": null,
      "outputs": [
        {
          "output_type": "stream",
          "name": "stdout",
          "text": [
            "1/1 [==============================] - 6s 6s/step - loss: 0.6402 - accuracy: 0.6842\n"
          ]
        }
      ]
    },
    {
      "cell_type": "code",
      "source": [
        "df_predict = df_all.iloc[121:220]\n",
        "reviews = df_predict['text']\n",
        "classifier_model.predict(reviews)"
      ],
      "metadata": {
        "colab": {
          "base_uri": "https://localhost:8080/"
        },
        "id": "ZEDtlXSn5_oo",
        "outputId": "5fe915b5-59c3-42ad-8320-1d43f1e706c1"
      },
      "execution_count": null,
      "outputs": [
        {
          "output_type": "stream",
          "name": "stdout",
          "text": [
            "4/4 [==============================] - 39s 9s/step\n"
          ]
        },
        {
          "output_type": "execute_result",
          "data": {
            "text/plain": [
              "array([[-0.3901175 ],\n",
              "       [-0.39005587],\n",
              "       [-0.39017764],\n",
              "       [-0.39016923],\n",
              "       [-0.390067  ],\n",
              "       [-0.39012608],\n",
              "       [-0.39012066],\n",
              "       [-0.39006016],\n",
              "       [-0.39022353],\n",
              "       [-0.3900806 ],\n",
              "       [-0.39004406],\n",
              "       [-0.39023367],\n",
              "       [-0.39004645],\n",
              "       [-0.39003488],\n",
              "       [-0.3901241 ],\n",
              "       [-0.39012143],\n",
              "       [-0.39012417],\n",
              "       [-0.39013848],\n",
              "       [-0.38998446],\n",
              "       [-0.3900697 ],\n",
              "       [-0.3901144 ],\n",
              "       [-0.3900561 ],\n",
              "       [-0.39004937],\n",
              "       [-0.39030716],\n",
              "       [-0.39008692],\n",
              "       [-0.39008877],\n",
              "       [-0.39017567],\n",
              "       [-0.3901249 ],\n",
              "       [-0.39005753],\n",
              "       [-0.39004204],\n",
              "       [-0.39011696],\n",
              "       [-0.3900809 ],\n",
              "       [-0.3902597 ],\n",
              "       [-0.3903815 ],\n",
              "       [-0.3900797 ],\n",
              "       [-0.3900257 ],\n",
              "       [-0.39008626],\n",
              "       [-0.39012644],\n",
              "       [-0.39007583],\n",
              "       [-0.39003477],\n",
              "       [-0.39017966],\n",
              "       [-0.3903651 ],\n",
              "       [-0.389995  ],\n",
              "       [-0.39007244],\n",
              "       [-0.39009967],\n",
              "       [-0.39019486],\n",
              "       [-0.39011154],\n",
              "       [-0.39004335],\n",
              "       [-0.3900762 ],\n",
              "       [-0.39009467],\n",
              "       [-0.39007458],\n",
              "       [-0.3901399 ],\n",
              "       [-0.3900766 ],\n",
              "       [-0.3902568 ],\n",
              "       [-0.39009723],\n",
              "       [-0.390146  ],\n",
              "       [-0.3902184 ],\n",
              "       [-0.39023003],\n",
              "       [-0.39003465],\n",
              "       [-0.39028427],\n",
              "       [-0.39009878],\n",
              "       [-0.3903815 ],\n",
              "       [-0.39003238],\n",
              "       [-0.39010826],\n",
              "       [-0.3900741 ],\n",
              "       [-0.39007017],\n",
              "       [-0.39009258],\n",
              "       [-0.39014408],\n",
              "       [-0.39013347],\n",
              "       [-0.3900719 ],\n",
              "       [-0.39008126],\n",
              "       [-0.3901181 ],\n",
              "       [-0.39009807],\n",
              "       [-0.39007828],\n",
              "       [-0.39016923],\n",
              "       [-0.39012173],\n",
              "       [-0.39011976],\n",
              "       [-0.3900635 ],\n",
              "       [-0.39009032],\n",
              "       [-0.390061  ],\n",
              "       [-0.39000615],\n",
              "       [-0.39022705],\n",
              "       [-0.39002427],\n",
              "       [-0.39005253],\n",
              "       [-0.39001128],\n",
              "       [-0.39026198],\n",
              "       [-0.3900865 ],\n",
              "       [-0.39014336],\n",
              "       [-0.39013955],\n",
              "       [-0.39004585],\n",
              "       [-0.3899869 ],\n",
              "       [-0.39006183],\n",
              "       [-0.39019367],\n",
              "       [-0.3900675 ],\n",
              "       [-0.39014956],\n",
              "       [-0.39001724],\n",
              "       [-0.39003977],\n",
              "       [-0.3901123 ],\n",
              "       [-0.39030233]], dtype=float32)"
            ]
          },
          "metadata": {},
          "execution_count": 18
        }
      ]
    },
    {
      "cell_type": "code",
      "source": [
        "df.groupby(['label'])['label'].count()\n",
        "df_predict.groupby(['label'])['label'].count()"
      ],
      "metadata": {
        "colab": {
          "base_uri": "https://localhost:8080/"
        },
        "id": "Bd5wDI58T34w",
        "outputId": "a98f9b85-c434-470f-920e-d7255468709c"
      },
      "execution_count": null,
      "outputs": [
        {
          "output_type": "execute_result",
          "data": {
            "text/plain": [
              "label\n",
              "ham     68\n",
              "spam    31\n",
              "Name: label, dtype: int64"
            ]
          },
          "metadata": {},
          "execution_count": 29
        }
      ]
    }
  ],
  "metadata": {
    "accelerator": "GPU",
    "colab": {
      "provenance": [],
      "toc_visible": true,
      "include_colab_link": true
    },
    "gpuClass": "standard",
    "kernelspec": {
      "display_name": "Python 3",
      "name": "python3"
    },
    "language_info": {
      "name": "python"
    }
  },
  "nbformat": 4,
  "nbformat_minor": 0
}