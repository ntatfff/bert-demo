{
  "cells": [
    {
      "cell_type": "markdown",
      "metadata": {
        "id": "view-in-github",
        "colab_type": "text"
      },
      "source": [
        "<a href=\"https://colab.research.google.com/github/ntatfff/bert-demo/blob/main/BERT_HAM_SPAM.ipynb\" target=\"_parent\"><img src=\"https://colab.research.google.com/assets/colab-badge.svg\" alt=\"Open In Colab\"/></a>"
      ]
    },
    {
      "cell_type": "code",
      "source": [
        "!pip install tensorflow tensorflow_text tensorflow_hub pandas"
      ],
      "metadata": {
        "id": "kXWnMqHmjn11"
      },
      "execution_count": null,
      "outputs": []
    },
    {
      "cell_type": "code",
      "execution_count": 2,
      "metadata": {
        "id": "6HKjLbYWZLJx"
      },
      "outputs": [],
      "source": [
        "import tensorflow as tf\n",
        "import tensorflow_text as text\n",
        "import tensorflow_hub as hub\n",
        "from tensorflow.keras import layers\n",
        "from sklearn.model_selection import train_test_split\n",
        "import pandas as pd"
      ]
    },
    {
      "cell_type": "code",
      "execution_count": 4,
      "metadata": {
        "colab": {
          "base_uri": "https://localhost:8080/"
        },
        "id": "FE1Yl7-XJ8_c",
        "outputId": "85e519b2-8fdd-4091-e810-8f6d907f84f4"
      },
      "outputs": [
        {
          "output_type": "execute_result",
          "data": {
            "text/plain": [
              "100"
            ]
          },
          "metadata": {},
          "execution_count": 4
        }
      ],
      "source": [
        "data= '/content/spam_ham_dataset.csv'\n",
        "df_all = pd.read_csv(data)\n",
        "df_train = df_all.head(100)"
      ]
    },
    {
      "cell_type": "code",
      "source": [
        "spam_dataset = df_train['text']\n",
        "labels = df_train['label_num']"
      ],
      "metadata": {
        "colab": {
          "base_uri": "https://localhost:8080/"
        },
        "id": "JUd3uM5x4dmf",
        "outputId": "ba04f728-9070-4edf-b549-efe01a52f64a"
      },
      "execution_count": 5,
      "outputs": [
        {
          "output_type": "execute_result",
          "data": {
            "text/plain": [
              "0    Subject: enron methanol ; meter # : 988291\\r\\n...\n",
              "1    Subject: hpl nom for january 9 , 2001\\r\\n( see...\n",
              "2    Subject: neon retreat\\r\\nho ho ho , we ' re ar...\n",
              "3    Subject: photoshop , windows , office . cheap ...\n",
              "4    Subject: re : indian springs\\r\\nthis deal is t...\n",
              "Name: text, dtype: object"
            ]
          },
          "metadata": {},
          "execution_count": 5
        }
      ]
    },
    {
      "cell_type": "code",
      "source": [],
      "metadata": {
        "colab": {
          "base_uri": "https://localhost:8080/"
        },
        "id": "Aguqb07Y4sie",
        "outputId": "617bccd9-6b4a-4984-ec4a-c8e28f106675"
      },
      "execution_count": 6,
      "outputs": [
        {
          "output_type": "execute_result",
          "data": {
            "text/plain": [
              "0    0\n",
              "1    0\n",
              "2    0\n",
              "3    1\n",
              "4    0\n",
              "Name: label_num, dtype: int64"
            ]
          },
          "metadata": {},
          "execution_count": 6
        }
      ]
    },
    {
      "cell_type": "code",
      "source": [
        "# Load the BERT model and tokenizer\n",
        "bert_preprocess = 'https://tfhub.dev/tensorflow/bert_en_uncased_preprocess/3'\n",
        "bert_encoder = 'https://tfhub.dev/tensorflow/bert_en_uncased_L-12_H-768_A-12/4'"
      ],
      "metadata": {
        "id": "b0rAMaNSJRAQ"
      },
      "execution_count": 7,
      "outputs": []
    },
    {
      "cell_type": "code",
      "execution_count": 8,
      "metadata": {
        "id": "S-aoP6nCfAMR"
      },
      "outputs": [],
      "source": [
        "preprocessor = hub.KerasLayer(bert_preprocess)\n",
        "encoder = hub.KerasLayer(bert_encoder)"
      ]
    },
    {
      "cell_type": "code",
      "execution_count": 9,
      "metadata": {
        "id": "Oc1jWhm9ffDO"
      },
      "outputs": [],
      "source": [
        "# Use train_test_split to split our data into train and validation sets\n",
        "train_inputs, validation_inputs, train_labels, validation_labels = train_test_split(spam_dataset, labels, random_state=42, test_size=0.1)"
      ]
    },
    {
      "cell_type": "code",
      "execution_count": 10,
      "metadata": {
        "id": "mKU-65vzfkj5"
      },
      "outputs": [],
      "source": [
        "# Convert to TensorFlow Datasets\n",
        "train_dataset = tf.data.Dataset.from_tensor_slices((train_inputs, train_labels))\n",
        "validation_dataset = tf.data.Dataset.from_tensor_slices((validation_inputs, validation_labels))"
      ]
    },
    {
      "cell_type": "code",
      "execution_count": 11,
      "metadata": {
        "id": "BevNxpz7fl6k"
      },
      "outputs": [],
      "source": [
        "# Prepare the model\n",
        "def build_classifier_model():\n",
        "  text_input = tf.keras.layers.Input(shape=(), dtype=tf.string, name='text')\n",
        "  preprocessing_layer = hub.KerasLayer(bert_preprocess, name='preprocessing')\n",
        "  encoder_inputs = preprocessing_layer(text_input)\n",
        "  encoder = hub.KerasLayer(bert_encoder, trainable=True, name='BERT_encoder')\n",
        "  outputs = encoder(encoder_inputs)\n",
        "  net = outputs['pooled_output']\n",
        "  net = tf.keras.layers.Dropout(0.1)(net)\n",
        "  net = tf.keras.layers.Dense(1, activation=None, name='classifier')(net)\n",
        "  return tf.keras.Model(text_input, net)\n",
        "\n",
        "classifier_model = build_classifier_model()"
      ]
    },
    {
      "cell_type": "code",
      "source": [
        "# Compile the model\n",
        "classifier_model.compile(\n",
        "    optimizer='adam',\n",
        "    loss=tf.keras.losses.BinaryCrossentropy(from_logits=True),\n",
        "    metrics=['accuracy']\n",
        ")"
      ],
      "metadata": {
        "id": "RW1QfuXN6xkr"
      },
      "execution_count": 12,
      "outputs": []
    },
    {
      "cell_type": "code",
      "source": [
        "# Train the model\n",
        "history = classifier_model.fit(\n",
        "    train_inputs,\n",
        "    train_labels,\n",
        "    epochs=10,\n",
        "    validation_data=(validation_inputs, validation_labels)\n",
        ")"
      ],
      "metadata": {
        "colab": {
          "base_uri": "https://localhost:8080/"
        },
        "id": "YwqCEHq__0p6",
        "outputId": "10340972-bea8-4f1e-b85f-14af02e74a03"
      },
      "execution_count": 13,
      "outputs": [
        {
          "output_type": "stream",
          "name": "stdout",
          "text": [
            "Epoch 1/10\n",
            "3/3 [==============================] - 145s 39s/step - loss: 1.2319 - accuracy: 0.5000 - val_loss: 0.5258 - val_accuracy: 0.8000\n",
            "Epoch 2/10\n",
            "3/3 [==============================] - 118s 39s/step - loss: 0.6090 - accuracy: 0.7000 - val_loss: 0.5019 - val_accuracy: 0.8000\n",
            "Epoch 3/10\n",
            "3/3 [==============================] - 133s 44s/step - loss: 0.6565 - accuracy: 0.7333 - val_loss: 0.5773 - val_accuracy: 0.8000\n",
            "Epoch 4/10\n",
            "3/3 [==============================] - 133s 43s/step - loss: 0.6380 - accuracy: 0.7333 - val_loss: 0.5063 - val_accuracy: 0.8000\n",
            "Epoch 5/10\n",
            "3/3 [==============================] - 134s 45s/step - loss: 0.6548 - accuracy: 0.7222 - val_loss: 0.5751 - val_accuracy: 0.8000\n",
            "Epoch 6/10\n",
            "3/3 [==============================] - 135s 46s/step - loss: 0.7042 - accuracy: 0.7111 - val_loss: 0.5006 - val_accuracy: 0.8000\n",
            "Epoch 7/10\n",
            "3/3 [==============================] - 124s 39s/step - loss: 0.5964 - accuracy: 0.7222 - val_loss: 0.5926 - val_accuracy: 0.8000\n",
            "Epoch 8/10\n",
            "3/3 [==============================] - 119s 39s/step - loss: 0.6202 - accuracy: 0.7222 - val_loss: 0.5014 - val_accuracy: 0.8000\n",
            "Epoch 9/10\n",
            "3/3 [==============================] - 117s 39s/step - loss: 0.5882 - accuracy: 0.7222 - val_loss: 0.5085 - val_accuracy: 0.8000\n",
            "Epoch 10/10\n",
            "3/3 [==============================] - 116s 38s/step - loss: 0.6053 - accuracy: 0.7222 - val_loss: 0.5950 - val_accuracy: 0.8000\n"
          ]
        }
      ]
    },
    {
      "cell_type": "code",
      "source": [
        "df_test = df_all.iloc[101:120]\n",
        "texts_test = df_test['text']\n",
        "labels_test = df_test['label_num']\n"
      ],
      "metadata": {
        "id": "0z7PrFpvL_JK"
      },
      "execution_count": 14,
      "outputs": []
    },
    {
      "cell_type": "code",
      "source": [
        "# Evaluate the model\n",
        "loss, accuracy = classifier_model.evaluate(texts_test, labels_test)"
      ],
      "metadata": {
        "colab": {
          "base_uri": "https://localhost:8080/"
        },
        "id": "ZaK33pqDLmex",
        "outputId": "acba7c73-bcb5-4e38-d161-c3205cde9eb3"
      },
      "execution_count": 15,
      "outputs": [
        {
          "output_type": "stream",
          "name": "stdout",
          "text": [
            "1/1 [==============================] - 6s 6s/step - loss: 0.6402 - accuracy: 0.6842\n"
          ]
        }
      ]
    },
    {
      "cell_type": "code",
      "source": [
        "df_predict = df_all.iloc[121:220]\n",
        "reviews = df_predict['text']\n",
        "classifier_model.predict(reviews)"
      ],
      "metadata": {
        "colab": {
          "base_uri": "https://localhost:8080/"
        },
        "id": "ZEDtlXSn5_oo",
        "outputId": "5fe915b5-59c3-42ad-8320-1d43f1e706c1"
      },
      "execution_count": 18,
      "outputs": [
        {
          "output_type": "stream",
          "name": "stdout",
          "text": [
            "4/4 [==============================] - 39s 9s/step\n"
          ]
        },
        {
          "output_type": "execute_result",
          "data": {
            "text/plain": [
              "array([[-0.3901175 ],\n",
              "       [-0.39005587],\n",
              "       [-0.39017764],\n",
              "       [-0.39016923],\n",
              "       [-0.390067  ],\n",
              "       [-0.39012608],\n",
              "       [-0.39012066],\n",
              "       [-0.39006016],\n",
              "       [-0.39022353],\n",
              "       [-0.3900806 ],\n",
              "       [-0.39004406],\n",
              "       [-0.39023367],\n",
              "       [-0.39004645],\n",
              "       [-0.39003488],\n",
              "       [-0.3901241 ],\n",
              "       [-0.39012143],\n",
              "       [-0.39012417],\n",
              "       [-0.39013848],\n",
              "       [-0.38998446],\n",
              "       [-0.3900697 ],\n",
              "       [-0.3901144 ],\n",
              "       [-0.3900561 ],\n",
              "       [-0.39004937],\n",
              "       [-0.39030716],\n",
              "       [-0.39008692],\n",
              "       [-0.39008877],\n",
              "       [-0.39017567],\n",
              "       [-0.3901249 ],\n",
              "       [-0.39005753],\n",
              "       [-0.39004204],\n",
              "       [-0.39011696],\n",
              "       [-0.3900809 ],\n",
              "       [-0.3902597 ],\n",
              "       [-0.3903815 ],\n",
              "       [-0.3900797 ],\n",
              "       [-0.3900257 ],\n",
              "       [-0.39008626],\n",
              "       [-0.39012644],\n",
              "       [-0.39007583],\n",
              "       [-0.39003477],\n",
              "       [-0.39017966],\n",
              "       [-0.3903651 ],\n",
              "       [-0.389995  ],\n",
              "       [-0.39007244],\n",
              "       [-0.39009967],\n",
              "       [-0.39019486],\n",
              "       [-0.39011154],\n",
              "       [-0.39004335],\n",
              "       [-0.3900762 ],\n",
              "       [-0.39009467],\n",
              "       [-0.39007458],\n",
              "       [-0.3901399 ],\n",
              "       [-0.3900766 ],\n",
              "       [-0.3902568 ],\n",
              "       [-0.39009723],\n",
              "       [-0.390146  ],\n",
              "       [-0.3902184 ],\n",
              "       [-0.39023003],\n",
              "       [-0.39003465],\n",
              "       [-0.39028427],\n",
              "       [-0.39009878],\n",
              "       [-0.3903815 ],\n",
              "       [-0.39003238],\n",
              "       [-0.39010826],\n",
              "       [-0.3900741 ],\n",
              "       [-0.39007017],\n",
              "       [-0.39009258],\n",
              "       [-0.39014408],\n",
              "       [-0.39013347],\n",
              "       [-0.3900719 ],\n",
              "       [-0.39008126],\n",
              "       [-0.3901181 ],\n",
              "       [-0.39009807],\n",
              "       [-0.39007828],\n",
              "       [-0.39016923],\n",
              "       [-0.39012173],\n",
              "       [-0.39011976],\n",
              "       [-0.3900635 ],\n",
              "       [-0.39009032],\n",
              "       [-0.390061  ],\n",
              "       [-0.39000615],\n",
              "       [-0.39022705],\n",
              "       [-0.39002427],\n",
              "       [-0.39005253],\n",
              "       [-0.39001128],\n",
              "       [-0.39026198],\n",
              "       [-0.3900865 ],\n",
              "       [-0.39014336],\n",
              "       [-0.39013955],\n",
              "       [-0.39004585],\n",
              "       [-0.3899869 ],\n",
              "       [-0.39006183],\n",
              "       [-0.39019367],\n",
              "       [-0.3900675 ],\n",
              "       [-0.39014956],\n",
              "       [-0.39001724],\n",
              "       [-0.39003977],\n",
              "       [-0.3901123 ],\n",
              "       [-0.39030233]], dtype=float32)"
            ]
          },
          "metadata": {},
          "execution_count": 18
        }
      ]
    },
    {
      "cell_type": "code",
      "source": [
        "df.groupby(['label'])['label'].count()\n",
        "df_predict.groupby(['label'])['label'].count()"
      ],
      "metadata": {
        "colab": {
          "base_uri": "https://localhost:8080/"
        },
        "id": "Bd5wDI58T34w",
        "outputId": "a98f9b85-c434-470f-920e-d7255468709c"
      },
      "execution_count": 29,
      "outputs": [
        {
          "output_type": "execute_result",
          "data": {
            "text/plain": [
              "label\n",
              "ham     68\n",
              "spam    31\n",
              "Name: label, dtype: int64"
            ]
          },
          "metadata": {},
          "execution_count": 29
        }
      ]
    }
  ],
  "metadata": {
    "accelerator": "GPU",
    "colab": {
      "provenance": [],
      "include_colab_link": true
    },
    "gpuClass": "standard",
    "kernelspec": {
      "display_name": "Python 3",
      "name": "python3"
    },
    "language_info": {
      "name": "python"
    }
  },
  "nbformat": 4,
  "nbformat_minor": 0
}